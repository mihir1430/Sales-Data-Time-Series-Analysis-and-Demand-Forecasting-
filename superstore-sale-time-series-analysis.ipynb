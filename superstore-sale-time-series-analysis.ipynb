{
 "cells": [
  {
   "cell_type": "markdown",
   "id": "1ba1dc5a",
   "metadata": {
    "papermill": {
     "duration": 0.004255,
     "end_time": "2025-03-27T09:15:50.221910",
     "exception": false,
     "start_time": "2025-03-27T09:15:50.217655",
     "status": "completed"
    },
    "tags": []
   },
   "source": [
    "### This project focuses on building a SARIMA model to forecast future sales based on the Superstore dataset.\n",
    "#### we will perform time series analysis to get the sales for forecasting for next 7 days."
   ]
  },
  {
   "cell_type": "code",
   "execution_count": 1,
   "id": "728560bd",
   "metadata": {
    "execution": {
     "iopub.execute_input": "2025-03-27T09:15:50.230694Z",
     "iopub.status.busy": "2025-03-27T09:15:50.230237Z",
     "iopub.status.idle": "2025-03-27T09:15:52.782395Z",
     "shell.execute_reply": "2025-03-27T09:15:52.781390Z"
    },
    "papermill": {
     "duration": 2.55828,
     "end_time": "2025-03-27T09:15:52.783948",
     "exception": false,
     "start_time": "2025-03-27T09:15:50.225668",
     "status": "completed"
    },
    "tags": []
   },
   "outputs": [
    {
     "data": {
      "text/html": [
       "<div>\n",
       "<style scoped>\n",
       "    .dataframe tbody tr th:only-of-type {\n",
       "        vertical-align: middle;\n",
       "    }\n",
       "\n",
       "    .dataframe tbody tr th {\n",
       "        vertical-align: top;\n",
       "    }\n",
       "\n",
       "    .dataframe thead th {\n",
       "        text-align: right;\n",
       "    }\n",
       "</style>\n",
       "<table border=\"1\" class=\"dataframe\">\n",
       "  <thead>\n",
       "    <tr style=\"text-align: right;\">\n",
       "      <th></th>\n",
       "      <th>Row ID</th>\n",
       "      <th>Order ID</th>\n",
       "      <th>Order Date</th>\n",
       "      <th>Ship Date</th>\n",
       "      <th>Ship Mode</th>\n",
       "      <th>Customer ID</th>\n",
       "      <th>Customer Name</th>\n",
       "      <th>Segment</th>\n",
       "      <th>Country</th>\n",
       "      <th>City</th>\n",
       "      <th>State</th>\n",
       "      <th>Postal Code</th>\n",
       "      <th>Region</th>\n",
       "      <th>Product ID</th>\n",
       "      <th>Category</th>\n",
       "      <th>Sub-Category</th>\n",
       "      <th>Product Name</th>\n",
       "      <th>Sales</th>\n",
       "    </tr>\n",
       "  </thead>\n",
       "  <tbody>\n",
       "    <tr>\n",
       "      <th>0</th>\n",
       "      <td>1</td>\n",
       "      <td>CA-2017-152156</td>\n",
       "      <td>08/11/2017</td>\n",
       "      <td>11/11/2017</td>\n",
       "      <td>Second Class</td>\n",
       "      <td>CG-12520</td>\n",
       "      <td>Claire Gute</td>\n",
       "      <td>Consumer</td>\n",
       "      <td>United States</td>\n",
       "      <td>Henderson</td>\n",
       "      <td>Kentucky</td>\n",
       "      <td>42420.0</td>\n",
       "      <td>South</td>\n",
       "      <td>FUR-BO-10001798</td>\n",
       "      <td>Furniture</td>\n",
       "      <td>Bookcases</td>\n",
       "      <td>Bush Somerset Collection Bookcase</td>\n",
       "      <td>261.9600</td>\n",
       "    </tr>\n",
       "    <tr>\n",
       "      <th>1</th>\n",
       "      <td>2</td>\n",
       "      <td>CA-2017-152156</td>\n",
       "      <td>08/11/2017</td>\n",
       "      <td>11/11/2017</td>\n",
       "      <td>Second Class</td>\n",
       "      <td>CG-12520</td>\n",
       "      <td>Claire Gute</td>\n",
       "      <td>Consumer</td>\n",
       "      <td>United States</td>\n",
       "      <td>Henderson</td>\n",
       "      <td>Kentucky</td>\n",
       "      <td>42420.0</td>\n",
       "      <td>South</td>\n",
       "      <td>FUR-CH-10000454</td>\n",
       "      <td>Furniture</td>\n",
       "      <td>Chairs</td>\n",
       "      <td>Hon Deluxe Fabric Upholstered Stacking Chairs,...</td>\n",
       "      <td>731.9400</td>\n",
       "    </tr>\n",
       "    <tr>\n",
       "      <th>2</th>\n",
       "      <td>3</td>\n",
       "      <td>CA-2017-138688</td>\n",
       "      <td>12/06/2017</td>\n",
       "      <td>16/06/2017</td>\n",
       "      <td>Second Class</td>\n",
       "      <td>DV-13045</td>\n",
       "      <td>Darrin Van Huff</td>\n",
       "      <td>Corporate</td>\n",
       "      <td>United States</td>\n",
       "      <td>Los Angeles</td>\n",
       "      <td>California</td>\n",
       "      <td>90036.0</td>\n",
       "      <td>West</td>\n",
       "      <td>OFF-LA-10000240</td>\n",
       "      <td>Office Supplies</td>\n",
       "      <td>Labels</td>\n",
       "      <td>Self-Adhesive Address Labels for Typewriters b...</td>\n",
       "      <td>14.6200</td>\n",
       "    </tr>\n",
       "    <tr>\n",
       "      <th>3</th>\n",
       "      <td>4</td>\n",
       "      <td>US-2016-108966</td>\n",
       "      <td>11/10/2016</td>\n",
       "      <td>18/10/2016</td>\n",
       "      <td>Standard Class</td>\n",
       "      <td>SO-20335</td>\n",
       "      <td>Sean O'Donnell</td>\n",
       "      <td>Consumer</td>\n",
       "      <td>United States</td>\n",
       "      <td>Fort Lauderdale</td>\n",
       "      <td>Florida</td>\n",
       "      <td>33311.0</td>\n",
       "      <td>South</td>\n",
       "      <td>FUR-TA-10000577</td>\n",
       "      <td>Furniture</td>\n",
       "      <td>Tables</td>\n",
       "      <td>Bretford CR4500 Series Slim Rectangular Table</td>\n",
       "      <td>957.5775</td>\n",
       "    </tr>\n",
       "    <tr>\n",
       "      <th>4</th>\n",
       "      <td>5</td>\n",
       "      <td>US-2016-108966</td>\n",
       "      <td>11/10/2016</td>\n",
       "      <td>18/10/2016</td>\n",
       "      <td>Standard Class</td>\n",
       "      <td>SO-20335</td>\n",
       "      <td>Sean O'Donnell</td>\n",
       "      <td>Consumer</td>\n",
       "      <td>United States</td>\n",
       "      <td>Fort Lauderdale</td>\n",
       "      <td>Florida</td>\n",
       "      <td>33311.0</td>\n",
       "      <td>South</td>\n",
       "      <td>OFF-ST-10000760</td>\n",
       "      <td>Office Supplies</td>\n",
       "      <td>Storage</td>\n",
       "      <td>Eldon Fold 'N Roll Cart System</td>\n",
       "      <td>22.3680</td>\n",
       "    </tr>\n",
       "  </tbody>\n",
       "</table>\n",
       "</div>"
      ],
      "text/plain": [
       "   Row ID        Order ID  Order Date   Ship Date       Ship Mode Customer ID  \\\n",
       "0       1  CA-2017-152156  08/11/2017  11/11/2017    Second Class    CG-12520   \n",
       "1       2  CA-2017-152156  08/11/2017  11/11/2017    Second Class    CG-12520   \n",
       "2       3  CA-2017-138688  12/06/2017  16/06/2017    Second Class    DV-13045   \n",
       "3       4  US-2016-108966  11/10/2016  18/10/2016  Standard Class    SO-20335   \n",
       "4       5  US-2016-108966  11/10/2016  18/10/2016  Standard Class    SO-20335   \n",
       "\n",
       "     Customer Name    Segment        Country             City       State  \\\n",
       "0      Claire Gute   Consumer  United States        Henderson    Kentucky   \n",
       "1      Claire Gute   Consumer  United States        Henderson    Kentucky   \n",
       "2  Darrin Van Huff  Corporate  United States      Los Angeles  California   \n",
       "3   Sean O'Donnell   Consumer  United States  Fort Lauderdale     Florida   \n",
       "4   Sean O'Donnell   Consumer  United States  Fort Lauderdale     Florida   \n",
       "\n",
       "   Postal Code Region       Product ID         Category Sub-Category  \\\n",
       "0      42420.0  South  FUR-BO-10001798        Furniture    Bookcases   \n",
       "1      42420.0  South  FUR-CH-10000454        Furniture       Chairs   \n",
       "2      90036.0   West  OFF-LA-10000240  Office Supplies       Labels   \n",
       "3      33311.0  South  FUR-TA-10000577        Furniture       Tables   \n",
       "4      33311.0  South  OFF-ST-10000760  Office Supplies      Storage   \n",
       "\n",
       "                                        Product Name     Sales  \n",
       "0                  Bush Somerset Collection Bookcase  261.9600  \n",
       "1  Hon Deluxe Fabric Upholstered Stacking Chairs,...  731.9400  \n",
       "2  Self-Adhesive Address Labels for Typewriters b...   14.6200  \n",
       "3      Bretford CR4500 Series Slim Rectangular Table  957.5775  \n",
       "4                     Eldon Fold 'N Roll Cart System   22.3680  "
      ]
     },
     "execution_count": 1,
     "metadata": {},
     "output_type": "execute_result"
    }
   ],
   "source": [
    "import pandas as pd\n",
    "import matplotlib.pyplot as plt\n",
    "import seaborn as sns\n",
    "import numpy as np\n",
    "\n",
    "\n",
    "#Step 1: Load and Check the Data\n",
    "df = pd.read_csv('../input/sales-forecasting/train.csv')\n",
    "df.head()"
   ]
  },
  {
   "cell_type": "code",
   "execution_count": 2,
   "id": "89185286",
   "metadata": {
    "execution": {
     "iopub.execute_input": "2025-03-27T09:15:52.794042Z",
     "iopub.status.busy": "2025-03-27T09:15:52.793698Z",
     "iopub.status.idle": "2025-03-27T09:15:52.838153Z",
     "shell.execute_reply": "2025-03-27T09:15:52.836691Z"
    },
    "papermill": {
     "duration": 0.051655,
     "end_time": "2025-03-27T09:15:52.839971",
     "exception": false,
     "start_time": "2025-03-27T09:15:52.788316",
     "status": "completed"
    },
    "tags": []
   },
   "outputs": [
    {
     "name": "stdout",
     "output_type": "stream",
     "text": [
      "<class 'pandas.core.frame.DataFrame'>\n",
      "RangeIndex: 9800 entries, 0 to 9799\n",
      "Data columns (total 18 columns):\n",
      " #   Column         Non-Null Count  Dtype  \n",
      "---  ------         --------------  -----  \n",
      " 0   Row ID         9800 non-null   int64  \n",
      " 1   Order ID       9800 non-null   object \n",
      " 2   Order Date     9800 non-null   object \n",
      " 3   Ship Date      9800 non-null   object \n",
      " 4   Ship Mode      9800 non-null   object \n",
      " 5   Customer ID    9800 non-null   object \n",
      " 6   Customer Name  9800 non-null   object \n",
      " 7   Segment        9800 non-null   object \n",
      " 8   Country        9800 non-null   object \n",
      " 9   City           9800 non-null   object \n",
      " 10  State          9800 non-null   object \n",
      " 11  Postal Code    9789 non-null   float64\n",
      " 12  Region         9800 non-null   object \n",
      " 13  Product ID     9800 non-null   object \n",
      " 14  Category       9800 non-null   object \n",
      " 15  Sub-Category   9800 non-null   object \n",
      " 16  Product Name   9800 non-null   object \n",
      " 17  Sales          9800 non-null   float64\n",
      "dtypes: float64(2), int64(1), object(15)\n",
      "memory usage: 1.3+ MB\n",
      "None\n",
      "            Row ID   Postal Code         Sales\n",
      "count  9800.000000   9789.000000   9800.000000\n",
      "mean   4900.500000  55273.322403    230.769059\n",
      "std    2829.160653  32041.223413    626.651875\n",
      "min       1.000000   1040.000000      0.444000\n",
      "25%    2450.750000  23223.000000     17.248000\n",
      "50%    4900.500000  58103.000000     54.490000\n",
      "75%    7350.250000  90008.000000    210.605000\n",
      "max    9800.000000  99301.000000  22638.480000\n"
     ]
    }
   ],
   "source": [
    "print(df.info())\n",
    "print(df.describe())"
   ]
  },
  {
   "cell_type": "code",
   "execution_count": 3,
   "id": "7af2f55a",
   "metadata": {
    "execution": {
     "iopub.execute_input": "2025-03-27T09:15:52.849709Z",
     "iopub.status.busy": "2025-03-27T09:15:52.849378Z",
     "iopub.status.idle": "2025-03-27T09:15:52.866610Z",
     "shell.execute_reply": "2025-03-27T09:15:52.865682Z"
    },
    "papermill": {
     "duration": 0.024237,
     "end_time": "2025-03-27T09:15:52.868494",
     "exception": false,
     "start_time": "2025-03-27T09:15:52.844257",
     "status": "completed"
    },
    "tags": []
   },
   "outputs": [],
   "source": [
    "df.drop('Row ID',axis = 1, inplace = True) #dropping the index Row ID\n",
    "\n",
    "df['Order Date']=pd.to_datetime(df['Order Date'],format='%d/%m/%Y') #change the datatype of Order Date  to date format\n",
    "\n",
    "\n"
   ]
  },
  {
   "cell_type": "code",
   "execution_count": 4,
   "id": "f4d207be",
   "metadata": {
    "execution": {
     "iopub.execute_input": "2025-03-27T09:15:52.878205Z",
     "iopub.status.busy": "2025-03-27T09:15:52.877804Z",
     "iopub.status.idle": "2025-03-27T09:15:52.887467Z",
     "shell.execute_reply": "2025-03-27T09:15:52.886271Z"
    },
    "papermill": {
     "duration": 0.016386,
     "end_time": "2025-03-27T09:15:52.889217",
     "exception": false,
     "start_time": "2025-03-27T09:15:52.872831",
     "status": "completed"
    },
    "tags": []
   },
   "outputs": [
    {
     "name": "stdout",
     "output_type": "stream",
     "text": [
      "Order Date Description\n",
      "\n",
      "count                             9800\n",
      "mean     2017-05-01 05:13:51.673469184\n",
      "min                2015-01-03 00:00:00\n",
      "25%                2016-05-24 00:00:00\n",
      "50%                2017-06-26 00:00:00\n",
      "75%                2018-05-15 00:00:00\n",
      "max                2018-12-30 00:00:00\n",
      "Name: Order Date, dtype: object\n"
     ]
    }
   ],
   "source": [
    "print('Order Date Description\\n') \n",
    "print(df['Order Date'].describe()) #Displays the distribution of dates in 'Order Data' column"
   ]
  },
  {
   "cell_type": "code",
   "execution_count": 5,
   "id": "6f394fec",
   "metadata": {
    "execution": {
     "iopub.execute_input": "2025-03-27T09:15:52.899090Z",
     "iopub.status.busy": "2025-03-27T09:15:52.898708Z",
     "iopub.status.idle": "2025-03-27T09:15:52.909214Z",
     "shell.execute_reply": "2025-03-27T09:15:52.907951Z"
    },
    "papermill": {
     "duration": 0.017598,
     "end_time": "2025-03-27T09:15:52.911229",
     "exception": false,
     "start_time": "2025-03-27T09:15:52.893631",
     "status": "completed"
    },
    "tags": []
   },
   "outputs": [],
   "source": [
    "df.sort_values(by=['Order Date'],inplace=True, ascending=True) #sorting the Order date in ascending order\n",
    "\n",
    "df.set_index('Order Date', inplace=True) #set order date as the  index\n",
    "\n"
   ]
  },
  {
   "cell_type": "code",
   "execution_count": 6,
   "id": "987b8f97",
   "metadata": {
    "execution": {
     "iopub.execute_input": "2025-03-27T09:15:52.921782Z",
     "iopub.status.busy": "2025-03-27T09:15:52.921445Z",
     "iopub.status.idle": "2025-03-27T09:15:52.932633Z",
     "shell.execute_reply": "2025-03-27T09:15:52.931458Z"
    },
    "papermill": {
     "duration": 0.01862,
     "end_time": "2025-03-27T09:15:52.934423",
     "exception": false,
     "start_time": "2025-03-27T09:15:52.915803",
     "status": "completed"
    },
    "tags": []
   },
   "outputs": [
    {
     "data": {
      "text/html": [
       "<div>\n",
       "<style scoped>\n",
       "    .dataframe tbody tr th:only-of-type {\n",
       "        vertical-align: middle;\n",
       "    }\n",
       "\n",
       "    .dataframe tbody tr th {\n",
       "        vertical-align: top;\n",
       "    }\n",
       "\n",
       "    .dataframe thead th {\n",
       "        text-align: right;\n",
       "    }\n",
       "</style>\n",
       "<table border=\"1\" class=\"dataframe\">\n",
       "  <thead>\n",
       "    <tr style=\"text-align: right;\">\n",
       "      <th></th>\n",
       "      <th>Sales</th>\n",
       "    </tr>\n",
       "    <tr>\n",
       "      <th>Order Date</th>\n",
       "      <th></th>\n",
       "    </tr>\n",
       "  </thead>\n",
       "  <tbody>\n",
       "    <tr>\n",
       "      <th>2015-01-03</th>\n",
       "      <td>16.448</td>\n",
       "    </tr>\n",
       "    <tr>\n",
       "      <th>2015-01-04</th>\n",
       "      <td>3.540</td>\n",
       "    </tr>\n",
       "    <tr>\n",
       "      <th>2015-01-04</th>\n",
       "      <td>272.736</td>\n",
       "    </tr>\n",
       "    <tr>\n",
       "      <th>2015-01-04</th>\n",
       "      <td>11.784</td>\n",
       "    </tr>\n",
       "    <tr>\n",
       "      <th>2015-01-05</th>\n",
       "      <td>19.536</td>\n",
       "    </tr>\n",
       "    <tr>\n",
       "      <th>...</th>\n",
       "      <td>...</td>\n",
       "    </tr>\n",
       "    <tr>\n",
       "      <th>2018-12-30</th>\n",
       "      <td>20.720</td>\n",
       "    </tr>\n",
       "    <tr>\n",
       "      <th>2018-12-30</th>\n",
       "      <td>323.136</td>\n",
       "    </tr>\n",
       "    <tr>\n",
       "      <th>2018-12-30</th>\n",
       "      <td>209.300</td>\n",
       "    </tr>\n",
       "    <tr>\n",
       "      <th>2018-12-30</th>\n",
       "      <td>52.776</td>\n",
       "    </tr>\n",
       "    <tr>\n",
       "      <th>2018-12-30</th>\n",
       "      <td>3.024</td>\n",
       "    </tr>\n",
       "  </tbody>\n",
       "</table>\n",
       "<p>9800 rows × 1 columns</p>\n",
       "</div>"
      ],
      "text/plain": [
       "              Sales\n",
       "Order Date         \n",
       "2015-01-03   16.448\n",
       "2015-01-04    3.540\n",
       "2015-01-04  272.736\n",
       "2015-01-04   11.784\n",
       "2015-01-05   19.536\n",
       "...             ...\n",
       "2018-12-30   20.720\n",
       "2018-12-30  323.136\n",
       "2018-12-30  209.300\n",
       "2018-12-30   52.776\n",
       "2018-12-30    3.024\n",
       "\n",
       "[9800 rows x 1 columns]"
      ]
     },
     "execution_count": 6,
     "metadata": {},
     "output_type": "execute_result"
    }
   ],
   "source": [
    "new_df=pd.DataFrame(df['Sales']) #creating the new data frame with required column\n",
    "new_df"
   ]
  },
  {
   "cell_type": "code",
   "execution_count": 7,
   "id": "13e82797",
   "metadata": {
    "execution": {
     "iopub.execute_input": "2025-03-27T09:15:52.944804Z",
     "iopub.status.busy": "2025-03-27T09:15:52.944464Z",
     "iopub.status.idle": "2025-03-27T09:15:53.456829Z",
     "shell.execute_reply": "2025-03-27T09:15:53.455696Z"
    },
    "papermill": {
     "duration": 0.519428,
     "end_time": "2025-03-27T09:15:53.458609",
     "exception": false,
     "start_time": "2025-03-27T09:15:52.939181",
     "status": "completed"
    },
    "tags": []
   },
   "outputs": [
    {
     "data": {
      "text/plain": [
       "<Axes: xlabel='Order Date'>"
      ]
     },
     "execution_count": 7,
     "metadata": {},
     "output_type": "execute_result"
    },
    {
     "data": {
      "image/png": "[encoded data removed]",
      "text/plain": [
       "<Figure size 640x480 with 1 Axes>"
      ]
     },
     "metadata": {},
     "output_type": "display_data"
    }
   ],
   "source": [
    "#Plotting the data to understand the sales distribution from the year 2015-2018\n",
    "new_df.plot()"
   ]
  },
  {
   "cell_type": "code",
   "execution_count": 8,
   "id": "6fa1d166",
   "metadata": {
    "execution": {
     "iopub.execute_input": "2025-03-27T09:15:53.471050Z",
     "iopub.status.busy": "2025-03-27T09:15:53.470635Z",
     "iopub.status.idle": "2025-03-27T09:15:53.485360Z",
     "shell.execute_reply": "2025-03-27T09:15:53.484369Z"
    },
    "papermill": {
     "duration": 0.023015,
     "end_time": "2025-03-27T09:15:53.487160",
     "exception": false,
     "start_time": "2025-03-27T09:15:53.464145",
     "status": "completed"
    },
    "tags": []
   },
   "outputs": [],
   "source": [
    "new_df =  pd.DataFrame(new_df['Sales'].resample('D').mean()) #Convert data into daily records (uniform timeline)\n",
    "\n",
    "new_df = new_df.interpolate(method='linear') #Fill missing sales for smooth model training\n",
    "\n",
    "\n"
   ]
  },
  {
   "cell_type": "markdown",
   "id": "fdb71a91",
   "metadata": {
    "papermill": {
     "duration": 0.005547,
     "end_time": "2025-03-27T09:15:53.498181",
     "exception": false,
     "start_time": "2025-03-27T09:15:53.492634",
     "status": "completed"
    },
    "tags": []
   },
   "source": [
    "#### resample('D') means change the time series to Daily Frequency ('D' = Daily)\n",
    "#### Suppose your sales data was only recorded on certain dates (like orders placed only on random days).So some days have sales data, and some days are missing (no sales or no record).This creates daily rows even if there were no sales recorded.\n",
    "\n",
    "#### After resampling, we get NaN (missing) values on the dates with no sales data.\n",
    "#### Interpolation will Filling missing values by guessing using surrounding data.\n",
    "##### Linear method → Draw a straight line between known points and fill missing values. Once the dataset is complete with no missing values — it will ready for ARIMA/SARIMA.\n"
   ]
  },
  {
   "cell_type": "markdown",
   "id": "6164941b",
   "metadata": {
    "papermill": {
     "duration": 0.004879,
     "end_time": "2025-03-27T09:15:53.508345",
     "exception": false,
     "start_time": "2025-03-27T09:15:53.503466",
     "status": "completed"
    },
    "tags": []
   },
   "source": [
    "### Augmented Dicky Fuller test\n",
    "\n",
    "#### The Augmented Dickey-Fuller test is a type of statistical test alsocalled a unit root test.The base of unit root test is that it helps in determining how strongly a time series is defined by a trend.\n",
    "\n",
    "#### The null hypothesis of the test is that the time series can be represented by a unit root, that it is not stationary. The alternate hypothesis (rejecting the null hypothesis) is that the time series is stationary.\n",
    "\n",
    "    * Null Hypothesis(H0): Time series is not stationary\n",
    "    * Alternate Hypothesis (H1): Time series is stationary\n",
    "    * This result is interpreted using the p-value from the test.\n",
    "\n",
    "    * p-value > 0.05: Fail to reject the null hypothesis (H0), the data has a unit root and is non-stationary.\n",
    "    * p-value <= 0.05: Reject the null hypothesis (H0), the data does not have a unit root and is stationary.\n",
    "\n"
   ]
  },
  {
   "cell_type": "code",
   "execution_count": 9,
   "id": "408216f8",
   "metadata": {
    "execution": {
     "iopub.execute_input": "2025-03-27T09:15:53.520067Z",
     "iopub.status.busy": "2025-03-27T09:15:53.519627Z",
     "iopub.status.idle": "2025-03-27T09:15:53.907439Z",
     "shell.execute_reply": "2025-03-27T09:15:53.906273Z"
    },
    "papermill": {
     "duration": 0.395705,
     "end_time": "2025-03-27T09:15:53.909208",
     "exception": false,
     "start_time": "2025-03-27T09:15:53.513503",
     "status": "completed"
    },
    "tags": []
   },
   "outputs": [
    {
     "name": "stdout",
     "output_type": "stream",
     "text": [
      "ADF Statistic: -20.80945851483934\n",
      "p-value: 0.0\n"
     ]
    }
   ],
   "source": [
    "from statsmodels.tsa.stattools import adfuller\n",
    "\n",
    "# Run ADF test on the 'Sales' column\n",
    "adf_result = adfuller(new_df['Sales'])\n",
    "print(f'ADF Statistic: {adf_result[0]}')\n",
    "print(f'p-value: {adf_result[1]}')\n",
    "\n",
    "\n",
    "# We can use below code as well uncomment to check\n",
    "\n",
    "\n",
    "# adf = adfuller(new_df) \n",
    "\n",
    "# print(adf)\n",
    "# print('\\nADF = ', str(adf[0])) #more towards negative value the better\n",
    "# print('\\np-value = ', str(adf[1]))\n",
    "# print('\\nCritical Values: ')\n",
    "\n",
    "# for key, val in adf[4].items(): #for loop to print the p-value (1%, 5% and 10%) and their respective values\n",
    "#     print(key,':',val)\n",
    "    \n",
    "\n",
    "#     if adf[0] < val:\n",
    "#         print('Null Hypothesis Rejected. Time Series is Stationary')\n",
    "#     else:\n",
    "#         print('Null Hypothesis Accepted. Time Series is not Stationary')"
   ]
  },
  {
   "cell_type": "markdown",
   "id": "7bc4c3ce",
   "metadata": {
    "papermill": {
     "duration": 0.005371,
     "end_time": "2025-03-27T09:15:53.920359",
     "exception": false,
     "start_time": "2025-03-27T09:15:53.914988",
     "status": "completed"
    },
    "tags": []
   },
   "source": [
    "#### We will do the Model Selection using Grid Search.\n",
    "##### We don’t know which combination of (p,d,q) and (P,D,Q,s) is best.\n",
    "##### Use itertools.product() → It creates all possible combinations of p, d, q in the range (here 0 and 1).\n",
    "\n",
    "#### AIC (Akaike Information Criterion) — Why This?\n",
    "    * AIC helps choose the best model → Lower AIC is better\n",
    "    * Formula includes both accuracy and model simplicity\n",
    "\n",
    "    * If AIC is too high → model is bad\n",
    "    * If AIC is low → model is good (less error + not too complex)"
   ]
  },
  {
   "cell_type": "code",
   "execution_count": 10,
   "id": "40005c35",
   "metadata": {
    "execution": {
     "iopub.execute_input": "2025-03-27T09:15:53.933004Z",
     "iopub.status.busy": "2025-03-27T09:15:53.932400Z",
     "iopub.status.idle": "2025-03-27T09:15:53.940049Z",
     "shell.execute_reply": "2025-03-27T09:15:53.938984Z"
    },
    "papermill": {
     "duration": 0.015833,
     "end_time": "2025-03-27T09:15:53.941655",
     "exception": false,
     "start_time": "2025-03-27T09:15:53.925822",
     "status": "completed"
    },
    "tags": []
   },
   "outputs": [
    {
     "name": "stdout",
     "output_type": "stream",
     "text": [
      "Examples of parameter combinations for SARIMA:\n",
      "SARIMA: (0, 0, 1) x (0, 0, 1, 12)\n",
      "SARIMA: (0, 1, 0) x (0, 1, 0, 12)\n",
      "SARIMA: (0, 1, 1) x (0, 1, 1, 12)\n"
     ]
    }
   ],
   "source": [
    "import itertools\n",
    "\n",
    "# ✅ Define p, d, q range\n",
    "p = d = q = range(0, 2)  # You can try (0,1,2) for better tuning\n",
    "\n",
    "# ✅ Generate all combinations of p, d, q\n",
    "pdq = list(itertools.product(p, d, q))\n",
    "seasonal_pdq = [(x[0], x[1], x[2], 12) for x in itertools.product(p, d, q)]  # 12 for monthly seasonality\n",
    "\n",
    "print('Examples of parameter combinations for SARIMA:')\n",
    "print('SARIMA: {} x {}'.format(pdq[1], seasonal_pdq[1]))\n",
    "print('SARIMA: {} x {}'.format(pdq[2], seasonal_pdq[2]))\n",
    "print('SARIMA: {} x {}'.format(pdq[3], seasonal_pdq[3]))\n",
    "\n",
    "\n",
    "\n",
    "\n"
   ]
  },
  {
   "cell_type": "code",
   "execution_count": 11,
   "id": "8b3ab8b4",
   "metadata": {
    "execution": {
     "iopub.execute_input": "2025-03-27T09:15:53.954246Z",
     "iopub.status.busy": "2025-03-27T09:15:53.953887Z",
     "iopub.status.idle": "2025-03-27T09:15:53.959532Z",
     "shell.execute_reply": "2025-03-27T09:15:53.958581Z"
    },
    "papermill": {
     "duration": 0.013713,
     "end_time": "2025-03-27T09:15:53.961073",
     "exception": false,
     "start_time": "2025-03-27T09:15:53.947360",
     "status": "completed"
    },
    "tags": []
   },
   "outputs": [],
   "source": [
    "# ✅ Find the best combination based on lowest AIC\n",
    "best_aic = np.inf\n",
    "best_pdq = None\n",
    "best_seasonal_pdq = None\n",
    "\n",
    "for param in pdq:\n",
    "    for seasonal_param in seasonal_pdq:\n",
    "        try:\n",
    "            model = sm.tsa.statespace.SARIMAX(new_df,\n",
    "                                              order=param,\n",
    "                                              seasonal_order=seasonal_param,\n",
    "                                              enforce_stationarity=False,\n",
    "                                              enforce_invertibility=False)\n",
    "            results = model.fit()\n",
    "            print(f'SARIMA{param}x{seasonal_param} - AIC:{results.aic}')\n",
    "            \n",
    "            if results.aic < best_aic:\n",
    "                best_aic = results.aic\n",
    "                best_pdq = param\n",
    "                best_seasonal_pdq = seasonal_param\n",
    "        except:\n",
    "            continue"
   ]
  },
  {
   "cell_type": "code",
   "execution_count": 12,
   "id": "e2f06b3c",
   "metadata": {
    "execution": {
     "iopub.execute_input": "2025-03-27T09:15:53.973702Z",
     "iopub.status.busy": "2025-03-27T09:15:53.973379Z",
     "iopub.status.idle": "2025-03-27T09:15:55.637179Z",
     "shell.execute_reply": "2025-03-27T09:15:55.635895Z"
    },
    "papermill": {
     "duration": 1.672188,
     "end_time": "2025-03-27T09:15:55.639052",
     "exception": false,
     "start_time": "2025-03-27T09:15:53.966864",
     "status": "completed"
    },
    "tags": []
   },
   "outputs": [
    {
     "name": "stdout",
     "output_type": "stream",
     "text": [
      "==============================================================================\n",
      "                 coef    std err          z      P>|z|      [0.025      0.975]\n",
      "------------------------------------------------------------------------------\n",
      "sigma2      1.214e+05   1204.880    100.761      0.000    1.19e+05    1.24e+05\n",
      "==============================================================================\n"
     ]
    }
   ],
   "source": [
    "import statsmodels.api as sm \n",
    "\n",
    "# After choosing the combination of seasonal parameters with least AIC value, let us train the SARIMA model\n",
    "mod = sm.tsa.statespace.SARIMAX(new_df,\n",
    "                                        order=best_pdq,\n",
    "                                        seasonal_order=best_seasonal_pdq,\n",
    "                                        enforce_stationarity=False,\n",
    "                                        enforce_invertibility=False) #model defintion\n",
    "results = mod.fit() #model fitting\n",
    "print(results.summary().tables[1]) # displaying the result "
   ]
  },
  {
   "cell_type": "code",
   "execution_count": 13,
   "id": "7570565a",
   "metadata": {
    "execution": {
     "iopub.execute_input": "2025-03-27T09:15:55.652326Z",
     "iopub.status.busy": "2025-03-27T09:15:55.651730Z",
     "iopub.status.idle": "2025-03-27T09:15:55.664547Z",
     "shell.execute_reply": "2025-03-27T09:15:55.663321Z"
    },
    "papermill": {
     "duration": 0.021216,
     "end_time": "2025-03-27T09:15:55.666246",
     "exception": false,
     "start_time": "2025-03-27T09:15:55.645030",
     "status": "completed"
    },
    "tags": []
   },
   "outputs": [
    {
     "name": "stdout",
     "output_type": "stream",
     "text": [
      "2018-12-31    0\n",
      "2019-01-01    0\n",
      "2019-01-02    0\n",
      "2019-01-03    0\n",
      "2019-01-04    0\n",
      "2019-01-05    0\n",
      "2019-01-06    0\n",
      "Freq: D, Name: predicted_mean, dtype: int64\n"
     ]
    }
   ],
   "source": [
    "forecast = results.forecast(steps=7) # making a forecast of 7 days later of the last date in the 'Order Date' column\n",
    "print(forecast.astype('int')) "
   ]
  },
  {
   "cell_type": "code",
   "execution_count": 14,
   "id": "54a8f4ce",
   "metadata": {
    "execution": {
     "iopub.execute_input": "2025-03-27T09:15:55.679168Z",
     "iopub.status.busy": "2025-03-27T09:15:55.678752Z",
     "iopub.status.idle": "2025-03-27T09:15:55.689677Z",
     "shell.execute_reply": "2025-03-27T09:15:55.688533Z"
    },
    "papermill": {
     "duration": 0.0193,
     "end_time": "2025-03-27T09:15:55.691474",
     "exception": false,
     "start_time": "2025-03-27T09:15:55.672174",
     "status": "completed"
    },
    "tags": []
   },
   "outputs": [
    {
     "data": {
      "text/html": [
       "<div>\n",
       "<style scoped>\n",
       "    .dataframe tbody tr th:only-of-type {\n",
       "        vertical-align: middle;\n",
       "    }\n",
       "\n",
       "    .dataframe tbody tr th {\n",
       "        vertical-align: top;\n",
       "    }\n",
       "\n",
       "    .dataframe thead th {\n",
       "        text-align: right;\n",
       "    }\n",
       "</style>\n",
       "<table border=\"1\" class=\"dataframe\">\n",
       "  <thead>\n",
       "    <tr style=\"text-align: right;\">\n",
       "      <th></th>\n",
       "      <th>Future Date</th>\n",
       "      <th>Predicted Sales</th>\n",
       "    </tr>\n",
       "  </thead>\n",
       "  <tbody>\n",
       "    <tr>\n",
       "      <th>0</th>\n",
       "      <td>2018-12-31</td>\n",
       "      <td>0</td>\n",
       "    </tr>\n",
       "    <tr>\n",
       "      <th>1</th>\n",
       "      <td>2019-01-01</td>\n",
       "      <td>0</td>\n",
       "    </tr>\n",
       "    <tr>\n",
       "      <th>2</th>\n",
       "      <td>2019-01-02</td>\n",
       "      <td>0</td>\n",
       "    </tr>\n",
       "    <tr>\n",
       "      <th>3</th>\n",
       "      <td>2019-01-03</td>\n",
       "      <td>0</td>\n",
       "    </tr>\n",
       "    <tr>\n",
       "      <th>4</th>\n",
       "      <td>2019-01-04</td>\n",
       "      <td>0</td>\n",
       "    </tr>\n",
       "    <tr>\n",
       "      <th>5</th>\n",
       "      <td>2019-01-05</td>\n",
       "      <td>0</td>\n",
       "    </tr>\n",
       "    <tr>\n",
       "      <th>6</th>\n",
       "      <td>2019-01-06</td>\n",
       "      <td>0</td>\n",
       "    </tr>\n",
       "  </tbody>\n",
       "</table>\n",
       "</div>"
      ],
      "text/plain": [
       "  Future Date  Predicted Sales\n",
       "0  2018-12-31                0\n",
       "1  2019-01-01                0\n",
       "2  2019-01-02                0\n",
       "3  2019-01-03                0\n",
       "4  2019-01-04                0\n",
       "5  2019-01-05                0\n",
       "6  2019-01-06                0"
      ]
     },
     "execution_count": 14,
     "metadata": {},
     "output_type": "execute_result"
    }
   ],
   "source": [
    "forecast = forecast.astype('int') \n",
    "forecast_df = forecast.to_frame() \n",
    "forecast_df.reset_index(level=0, inplace=True) \n",
    "forecast_df.columns = ['Future Date', 'Predicted Sales']\n",
    "forecast_df"
   ]
  },
  {
   "cell_type": "code",
   "execution_count": null,
   "id": "14bd33ee",
   "metadata": {
    "papermill": {
     "duration": 0.005558,
     "end_time": "2025-03-27T09:15:55.703369",
     "exception": false,
     "start_time": "2025-03-27T09:15:55.697811",
     "status": "completed"
    },
    "tags": []
   },
   "outputs": [],
   "source": []
  }
 ],
 "metadata": {
  "kaggle": {
   "accelerator": "none",
   "dataSources": [
    {
     "datasetId": 835308,
     "sourceId": 1480443,
     "sourceType": "datasetVersion"
    }
   ],
   "isGpuEnabled": false,
   "isInternetEnabled": true,
   "language": "python",
   "sourceType": "notebook"
  },
  "kernelspec": {
   "display_name": "Python 3 (ipykernel)",
   "language": "python",
   "name": "python3"
  },
  "language_info": {
   "codemirror_mode": {
    "name": "ipython",
    "version": 3
   },
   "file_extension": ".py",
   "mimetype": "text/x-python",
   "name": "python",
   "nbconvert_exporter": "python",
   "pygments_lexer": "ipython3",
   "version": "3.10.12"
  },
  "papermill": {
   "default_parameters": {},
   "duration": 9.129876,
   "end_time": "2025-03-27T09:15:56.529282",
   "environment_variables": {},
   "exception": null,
   "input_path": "__notebook__.ipynb",
   "output_path": "__notebook__.ipynb",
   "parameters": {},
   "start_time": "2025-03-27T09:15:47.399406",
   "version": "2.6.0"
  }
 },
 "nbformat": 4,
 "nbformat_minor": 5
}
